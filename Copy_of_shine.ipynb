{
  "nbformat": 4,
  "nbformat_minor": 0,
  "metadata": {
    "colab": {
      "provenance": [],
      "authorship_tag": "ABX9TyNdXwycBbqgBG5wlmPDfy6l",
      "include_colab_link": true
    },
    "kernelspec": {
      "name": "python3",
      "display_name": "Python 3"
    },
    "language_info": {
      "name": "python"
    }
  },
  "cells": [
    {
      "cell_type": "markdown",
      "metadata": {
        "id": "view-in-github",
        "colab_type": "text"
      },
      "source": [
        "<a href=\"https://colab.research.google.com/github/mohani98/scraping/blob/main/Copy_of_shine.ipynb\" target=\"_parent\"><img src=\"https://colab.research.google.com/assets/colab-badge.svg\" alt=\"Open In Colab\"/></a>"
      ]
    },
    {
      "cell_type": "code",
      "execution_count": null,
      "metadata": {
        "id": "rD019bZdYYMf"
      },
      "outputs": [],
      "source": [
        "import requests\n",
        "from bs4 import BeautifulSoup\n",
        "import pandas as pd\n",
        "import time"
      ]
    },
    {
      "cell_type": "code",
      "source": [
        "titles=[]\n",
        "description=[]"
      ],
      "metadata": {
        "id": "gJOCe2LXaXub"
      },
      "execution_count": null,
      "outputs": []
    },
    {
      "cell_type": "code",
      "source": [
        "url='https://www.shine.com/job-search/data-analyst-jobs-2?q=data-analyst'"
      ],
      "metadata": {
        "id": "hkHm_2gTamHn"
      },
      "execution_count": null,
      "outputs": []
    },
    {
      "cell_type": "code",
      "source": [
        "def all_description(links):\n",
        "  #findinf links of all jobs\n",
        "  for i in range(0,len(links)):\n",
        "    link=links[i]['href']\n",
        "    #print(link)\n",
        "\n",
        "\n",
        "  u=url+link[0]\n",
        "  res=requests.get(u)\n",
        "  s=BeautifulSoup(res.text,'html.parser')\n",
        "  company=s.find('div',class_='JobDetailWidget_jobCard_cName__qvsdW').text\n",
        "\n",
        "  experience=s.find('div',class_='JobDetailWidget_jobCard_lists_item__w6Yow JobDetailWidget_jobIcon__mjaNB undefined').text\n",
        "\n",
        "  type_of_job=s.find('ul',class_='JobDetailWidget_jobCard_jobDetail__Yyn2o').text\n",
        "\n",
        "  job_detail=s.find('div',class_='jobDetail_jsrpRightDetail_text__jqs8a').text\n",
        "\n",
        "  city=s.find('div',class_='JobDetailWidget_jobCard_lists_item__w6Yow JobDetailWidget_locationIcon__u85a7').text\n",
        "\n",
        "  skill=s.find('ul',class_='keyskills_keySkills_items__ej9_3')\n",
        "  sk=skill.find_all('li')\n",
        "  skill_li=[]\n",
        "  for l in sk:\n",
        "    skill_li.append(l.text)\n",
        "\n",
        "  recruter_detail=s.find('div',class_='recruiterDetails_recruiterDetails__rL2nh white-box-border').text\n",
        "\n",
        "  job_l=s.find('div',class_='JobDetailWidget_jobDetail_blue__JDzC6 JobDetailWidget_jobCard__ZheXJ cls_jobCard white-box-border')\n",
        "  job_lin=job_l.find('a')\n",
        "  job_link=job_lin['href']\n",
        "\n",
        "\n",
        "\n",
        "\n",
        "\n",
        "\n",
        "  print(job_link)\n",
        "  #print(s.prettify())\n",
        "\n",
        "\n",
        "\n",
        "\n",
        "def items(container):\n",
        " links=container.find_all('a')\n",
        " print(links)\n",
        " all_description(links)\n",
        "\n",
        "\n",
        "def get(url):\n",
        "  try:\n",
        "   response=requests.get(url)\n",
        "   response.raise_for_status()\n",
        "  except requests.exceptions.HTTPError as err:\n",
        "   print(f\"http error occured :{err}\")\n",
        "  except Exception as err:\n",
        "   print(f'Other error occurred: {err}')\n",
        "  soup=BeautifulSoup(response.text,\"html.parser\")\n",
        "  #print(soup.prettify())\n",
        "  container=soup.find('div',class_='parentClass position-relative')\n",
        "  #print(container.prettify())\n",
        "  items(container)\n",
        "\n",
        "\n",
        "\n",
        "\n"
      ],
      "metadata": {
        "id": "QHNfE9z2a7Lv"
      },
      "execution_count": null,
      "outputs": []
    },
    {
      "cell_type": "code",
      "source": [
        "type='data-analyst'\n",
        "\n",
        "for i in range(1,2):\n",
        "  url=f\"https://www.shine.com/job-search/data-analyst-jobs-{i}?q={type}\"\n",
        "  get(url)\n"
      ],
      "metadata": {
        "colab": {
          "base_uri": "https://localhost:8080/"
        },
        "id": "kumW4ZXybGHg",
        "outputId": "3998d07f-d29d-43e0-ea32-58fd404a62fc"
      },
      "execution_count": null,
      "outputs": [
        {
          "output_type": "stream",
          "name": "stdout",
          "text": [
            "[<a href=\"/jobs/data-analyst-data-steward-permanent/blazeclan-technologies/14461378\">Data Analyst (Data Steward)</a>, <a href=\"/jobs/senior-healthcare-business-data-analyst-clinical-data-management-permanent/citius-tech/14457719\">Senior Healthcare Business Data Analyst - Clinical Data ...</a>, <a class=\"blue-box-border d-flex align-items-center justify-content-between\" href=\"https://resume.shine.com/product/application-highlighter-3/4117/\" title=\"get your Application Noticed\"><span class=\"applicationNoticed_applicationNoticed__l15rr\">Get your Application Noticed</span></a>, <a href=\"/jobs/data-analyst-for-bangalore-permanent/z2plus-placement-security-agency/14461513\">Data Analyst for Bangalore</a>, <a class=\"blue-box-border d-flex align-items-center justify-content-between\" href=\"/live-jobs/data-analyst-jobs-live-update-for-14-Mar-2024\" title=\"Live Job Update\"><span class=\"liveBlogJsrpInterLinking_liveBlogJsrpInterLinking__AZEee\">Data Analyst Jobs Live Update</span></a>, <a href=\"/jobs/data-analyst-data-scientist-trainer-permanent/diyguru/14432076\">Data Analyst / Data Scientist Trainer</a>, <a class=\"d-block\" href=\"https://www.shine.com/new-registration\" title=\"Get Personalised Job Matches\"><div class=\"blue-box-border mb-15\"><p class=\"title\">Get Personalised Job Matches</p><p class=\"font-size-xs mt-5 text-grey-3\">Based on your experience, skills and interest</p><button class=\"btn btn-xs btn-secondary\">Register Now</button></div></a>, <a href=\"/jobs/data-analyst-salesforce-permanent/stralynn-consulting-services-inc/14459026\">Data Analyst -Salesforce</a>, <a href=\"/jobs/data-analyst-permanent/gameskraft/14461765\">Data Analyst</a>, <a href=\"/jobs/crm-data-analyst-permanent/sms-magic/14461092\">CRM Data Analyst</a>, <a href=\"/jobs/jr-data-analyst-bengaluru-permanent/total-infrastructure-management-solutions/14461062\">Jr Data Analyst (Bengaluru)</a>, <a href=\"/jobs/data-analyst-permanent/sam-manpower-and-career-services-llp/14459362\">Data  Analyst</a>, <a href=\"/jobs/client-success-analyst-data-analyst-permanent/2soft-solutions/14426523\">Client Success Analyst (Data Analyst)</a>, <a href=\"/jobs/data-analyst-sr-data-analyst-lead-permanent/logical-hiring/14408089\">Data Analyst / Sr. Data Analyst / Lead</a>, <a href=\"/jobs/data-analyst-sqlpython-permanent/talentov/14462426\">Data Analyst - SQL/Python</a>, <a href=\"/jobs/financial-data-analyst-permanent/mecpl/14461415\">Financial Data Analyst</a>, <a href=\"/jobs/sql-data-analyst-permanent/v-b-technologies/14464718\">SQL Data Analyst</a>, <a href=\"/jobs/pmt-data-analyst-permanent/walkaroo-international/14425587\">PMT - Data Analyst</a>, <a href=\"/jobs/business-development-operations-data-analyst-permanent/inizio-advisory/14459160\">Business Development Operations Data Analyst</a>, <a href=\"business-analyst-jobs-in-delhi\">Business analyst jobs in delhi</a>, <a href=\"analyst-jobs-in-delhi\">Analyst jobs in delhi</a>, <a href=\"mis-executive-jobs-in-delhi\">Mis executive jobs in delhi</a>, <a href=\"sql-developer-jobs-in-delhi\">Sql developer jobs in delhi</a>, <a href=\"python-developer-jobs-in-delhi\">Python developer jobs in delhi</a>, <a href=\"business-analyst-jobs-in-mumbai\">Business analyst jobs in mumbai</a>, <a href=\"analyst-jobs-in-mumbai\">Analyst jobs in mumbai</a>, <a href=\"mis-executive-jobs-in-mumbai\">Mis executive jobs in mumbai</a>, <a href=\"sql-developer-jobs-in-mumbai\">Sql developer jobs in mumbai</a>, <a href=\"python-developer-jobs-in-mumbai\">Python developer jobs in mumbai</a>, <a href=\"business-analyst-jobs-in-chennai\">Business analyst jobs in chennai</a>, <a href=\"analyst-jobs-in-chennai\">Analyst jobs in chennai</a>, <a href=\"mis-executive-jobs-in-chennai\">Mis executive jobs in chennai</a>, <a href=\"sql-developer-jobs-in-chennai\">Sql developer jobs in chennai</a>, <a href=\"python-developer-jobs-in-chennai\">Python developer jobs in chennai</a>, <a href=\"business-analyst-jobs-in-bangalore\">Business analyst jobs in bangalore</a>, <a href=\"analyst-jobs-in-bangalore\">Analyst jobs in bangalore</a>, <a href=\"mis-executive-jobs-in-bangalore\">Mis executive jobs in bangalore</a>, <a href=\"sql-developer-jobs-in-bangalore\">Sql developer jobs in bangalore</a>, <a href=\"python-developer-jobs-in-bangalore\">Python developer jobs in bangalore</a>, <a href=\"business-analyst-jobs-in-pune\">Business analyst jobs in pune</a>, <a href=\"analyst-jobs-in-pune\">Analyst jobs in pune</a>, <a href=\"mis-executive-jobs-in-pune\">Mis executive jobs in pune</a>, <a href=\"sql-developer-jobs-in-pune\">Sql developer jobs in pune</a>, <a href=\"python-developer-jobs-in-pune\">Python developer jobs in pune</a>, <a href=\"business-analyst-jobs-in-hyderabad\">Business analyst jobs in hyderabad</a>, <a href=\"analyst-jobs-in-hyderabad\">Analyst jobs in hyderabad</a>, <a href=\"mis-executive-jobs-in-hyderabad\">Mis executive jobs in hyderabad</a>, <a href=\"sql-developer-jobs-in-hyderabad\">Sql developer jobs in hyderabad</a>, <a href=\"python-developer-jobs-in-hyderabad\">Python developer jobs in hyderabad</a>, <a href=\"business-analyst-jobs-in-ahmedabad\">Business analyst jobs in ahmedabad</a>, <a href=\"analyst-jobs-in-ahmedabad\">Analyst jobs in ahmedabad</a>, <a href=\"mis-executive-jobs-in-ahmedabad\">Mis executive jobs in ahmedabad</a>, <a href=\"sql-developer-jobs-in-ahmedabad\">Sql developer jobs in ahmedabad</a>, <a href=\"python-developer-jobs-in-ahmedabad\">Python developer jobs in ahmedabad</a>, <a href=\"business-analyst-jobs-in-kolkata\">Business analyst jobs in kolkata</a>, <a href=\"analyst-jobs-in-kolkata\">Analyst jobs in kolkata</a>, <a href=\"mis-executive-jobs-in-kolkata\">Mis executive jobs in kolkata</a>, <a href=\"sql-developer-jobs-in-kolkata\">Sql developer jobs in kolkata</a>, <a href=\"python-developer-jobs-in-kolkata\">Python developer jobs in kolkata</a>, <a href=\"business-analyst-jobs-in-gurgaon\">Business analyst jobs in gurgaon</a>, <a href=\"analyst-jobs-in-gurgaon\">Analyst jobs in gurgaon</a>, <a href=\"mis-executive-jobs-in-gurgaon\">Mis executive jobs in gurgaon</a>, <a href=\"sql-developer-jobs-in-gurgaon\">Sql developer jobs in gurgaon</a>, <a href=\"python-developer-jobs-in-gurgaon\">Python developer jobs in gurgaon</a>, <a href=\"business-analyst-jobs-in-noida\">Business analyst jobs in noida</a>, <a href=\"analyst-jobs-in-noida\">Analyst jobs in noida</a>, <a href=\"mis-executive-jobs-in-noida\">Mis executive jobs in noida</a>, <a href=\"sql-developer-jobs-in-noida\">Sql developer jobs in noida</a>, <a href=\"python-developer-jobs-in-noida\">Python developer jobs in noida</a>, <a href=\"business-analyst-jobs-in-chandigarh\">Business analyst jobs in chandigarh</a>, <a href=\"analyst-jobs-in-chandigarh\">Analyst jobs in chandigarh</a>, <a href=\"mis-executive-jobs-in-chandigarh\">Mis executive jobs in chandigarh</a>, <a href=\"sql-developer-jobs-in-chandigarh\">Sql developer jobs in chandigarh</a>, <a href=\"python-developer-jobs-in-chandigarh\">Python developer jobs in chandigarh</a>, <a href=\"/jobs/senior-data-analyst-permanent/excelgens-inc/14450741\">Senior Data Analyst</a>, <a href=\"/jobs/data-analyst-permanent/truelancercom/14449419\">Data Analyst</a>, <a href=\"/jobs/data-analyst-permanent/prepladder/14463137\">Data Analyst</a>, <a href=\"/jobs/data-architect-data-analyst-financial-forecasting-permanent/vsynergize/14451782\">Data Architect /Data Analyst - Financial Forecasting</a>]\n",
            "/jobs/data-analyst-data-steward-permanent/blazeclan-technologies/14461378\n"
          ]
        }
      ]
    }
  ]
}